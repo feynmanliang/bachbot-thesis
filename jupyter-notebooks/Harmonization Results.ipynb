{
 "cells": [
  {
   "cell_type": "code",
   "execution_count": 10,
   "metadata": {
    "collapsed": false
   },
   "outputs": [
    {
     "name": "stdout",
     "output_type": "stream",
     "text": [
      "Populating the interactive namespace from numpy and matplotlib\n"
     ]
    },
    {
     "name": "stderr",
     "output_type": "stream",
     "text": [
      "/home/fl350/.pyenv/versions/2.7.11/envs/jupyter/lib/python2.7/site-packages/IPython/core/magics/pylab.py:161: UserWarning: pylab import has clobbered these variables: ['box']\n",
      "`%matplotlib` prevents importing * from pylab and numpy\n",
      "  \"\\n`%matplotlib` prevents importing * from pylab and numpy\"\n"
     ]
    }
   ],
   "source": [
    "%pylab inline"
   ]
  },
  {
   "cell_type": "code",
   "execution_count": 4,
   "metadata": {
    "collapsed": false
   },
   "outputs": [],
   "source": [
    "import pandas as pd\n",
    "\n",
    "import seaborn as sns\n",
    "from latexify import latexify, format_axes"
   ]
  },
  {
   "cell_type": "code",
   "execution_count": 8,
   "metadata": {
    "collapsed": false
   },
   "outputs": [
    {
     "data": {
      "text/html": [
       "<div>\n",
       "<table border=\"1\" class=\"dataframe\">\n",
       "  <thead>\n",
       "    <tr style=\"text-align: right;\">\n",
       "      <th></th>\n",
       "      <th>Error Type</th>\n",
       "      <th>Predicted Parts</th>\n",
       "      <th>Accuracy</th>\n",
       "      <th>Error Rate</th>\n",
       "    </tr>\n",
       "  </thead>\n",
       "  <tbody>\n",
       "    <tr>\n",
       "      <th>0</th>\n",
       "      <td>TER</td>\n",
       "      <td>A</td>\n",
       "      <td>0.558236</td>\n",
       "      <td>0.441764</td>\n",
       "    </tr>\n",
       "    <tr>\n",
       "      <th>1</th>\n",
       "      <td>TER</td>\n",
       "      <td>B</td>\n",
       "      <td>0.758904</td>\n",
       "      <td>0.241096</td>\n",
       "    </tr>\n",
       "    <tr>\n",
       "      <th>2</th>\n",
       "      <td>TER</td>\n",
       "      <td>ATB</td>\n",
       "      <td>0.281959</td>\n",
       "      <td>0.718041</td>\n",
       "    </tr>\n",
       "    <tr>\n",
       "      <th>3</th>\n",
       "      <td>TER</td>\n",
       "      <td>S</td>\n",
       "      <td>0.468421</td>\n",
       "      <td>0.531579</td>\n",
       "    </tr>\n",
       "    <tr>\n",
       "      <th>4</th>\n",
       "      <td>TER</td>\n",
       "      <td>AT</td>\n",
       "      <td>0.313627</td>\n",
       "      <td>0.686373</td>\n",
       "    </tr>\n",
       "    <tr>\n",
       "      <th>5</th>\n",
       "      <td>TER</td>\n",
       "      <td>T</td>\n",
       "      <td>0.764706</td>\n",
       "      <td>0.235294</td>\n",
       "    </tr>\n",
       "    <tr>\n",
       "      <th>6</th>\n",
       "      <td>FER</td>\n",
       "      <td>A</td>\n",
       "      <td>0.558236</td>\n",
       "      <td>0.441764</td>\n",
       "    </tr>\n",
       "    <tr>\n",
       "      <th>7</th>\n",
       "      <td>FER</td>\n",
       "      <td>B</td>\n",
       "      <td>0.758904</td>\n",
       "      <td>0.241096</td>\n",
       "    </tr>\n",
       "    <tr>\n",
       "      <th>8</th>\n",
       "      <td>FER</td>\n",
       "      <td>ATB</td>\n",
       "      <td>0.121774</td>\n",
       "      <td>0.878226</td>\n",
       "    </tr>\n",
       "    <tr>\n",
       "      <th>9</th>\n",
       "      <td>FER</td>\n",
       "      <td>S</td>\n",
       "      <td>0.468421</td>\n",
       "      <td>0.531579</td>\n",
       "    </tr>\n",
       "    <tr>\n",
       "      <th>10</th>\n",
       "      <td>FER</td>\n",
       "      <td>AT</td>\n",
       "      <td>0.212516</td>\n",
       "      <td>0.787484</td>\n",
       "    </tr>\n",
       "    <tr>\n",
       "      <th>11</th>\n",
       "      <td>FER</td>\n",
       "      <td>T</td>\n",
       "      <td>0.764706</td>\n",
       "      <td>0.235294</td>\n",
       "    </tr>\n",
       "  </tbody>\n",
       "</table>\n",
       "</div>"
      ],
      "text/plain": [
       "   Error Type Predicted Parts  Accuracy  Error Rate\n",
       "0         TER               A  0.558236    0.441764\n",
       "1         TER               B  0.758904    0.241096\n",
       "2         TER             ATB  0.281959    0.718041\n",
       "3         TER               S  0.468421    0.531579\n",
       "4         TER              AT  0.313627    0.686373\n",
       "5         TER               T  0.764706    0.235294\n",
       "6         FER               A  0.558236    0.441764\n",
       "7         FER               B  0.758904    0.241096\n",
       "8         FER             ATB  0.121774    0.878226\n",
       "9         FER               S  0.468421    0.531579\n",
       "10        FER              AT  0.212516    0.787484\n",
       "11        FER               T  0.764706    0.235294"
      ]
     },
     "execution_count": 8,
     "metadata": {},
     "output_type": "execute_result"
    }
   ],
   "source": [
    "data = pd\\\n",
    ".read_csv('/home/fl350/bachbot/scratch/harm_results.csv', names=['Error Type', 'Predicted Parts', 'Accuracy'])\\\n",
    ".assign(err=lambda x: 1 - x.Accuracy)\\\n",
    ".rename(columns={'err': 'Error Rate'})\n",
    "data"
   ]
  },
  {
   "cell_type": "code",
   "execution_count": 11,
   "metadata": {
    "collapsed": false
   },
   "outputs": [
    {
     "data": {
      "image/png": "[encoded data removed]",
      "text/plain": [
       "<matplotlib.figure.Figure at 0x7fde9d98a210>"
      ]
     },
     "metadata": {},
     "output_type": "display_data"
    }
   ],
   "source": [
    "latexify(fig_width=4)\n",
    "\n",
    "ax = pd.pivot_table(data, values='Error Rate', index=['Predicted Parts'], columns=['Error Type'])\\\n",
    ".round(3)\\\n",
    "[['TER', 'FER']]\\\n",
    ".loc[['S', 'A', 'T', 'B', 'AT', 'ATB']]\\\n",
    ".plot.bar(table=True)\n",
    "ax.set_title('Harmonization model error rates')\n",
    "ax.set_ylabel('Error Rate')\n",
    "ax.get_xaxis().set_visible(False)   # Hide Ticks\n",
    "\n",
    "#ax.legend(title=\"\", loc='best')\n",
    "# Shrink current axis by 20%, add legend to left\n",
    "box = ax.get_position()\n",
    "ax.set_position([box.x0, box.y0, box.width * 0.8, box.height])\n",
    "ax.legend(title=\"\", loc='center left', bbox_to_anchor=(1, 0.5))\n",
    "\n",
    "plt.tight_layout()\n",
    "plt.savefig('harmonization-results.pgf', bbox_inches='tight', dpi=300)\n",
    "plt.show()"
   ]
  },
  {
   "cell_type": "code",
   "execution_count": null,
   "metadata": {
    "collapsed": true
   },
   "outputs": [],
   "source": []
  }
 ],
 "metadata": {
  "kernelspec": {
   "display_name": "Python 2",
   "language": "python",
   "name": "python2"
  },
  "language_info": {
   "codemirror_mode": {
    "name": "ipython",
    "version": 2
   },
   "file_extension": ".py",
   "mimetype": "text/x-python",
   "name": "python",
   "nbconvert_exporter": "python",
   "pygments_lexer": "ipython2",
   "version": "2.7.11"
  }
 },
 "nbformat": 4,
 "nbformat_minor": 0
}
