{
 "cells": [
  {
   "cell_type": "code",
   "execution_count": 1,
   "metadata": {
    "collapsed": false
   },
   "outputs": [
    {
     "name": "stdout",
     "output_type": "stream",
     "text": [
      "Populating the interactive namespace from numpy and matplotlib\n"
     ]
    }
   ],
   "source": [
    "%pylab inline"
   ]
  },
  {
   "cell_type": "code",
   "execution_count": 2,
   "metadata": {
    "collapsed": false
   },
   "outputs": [
    {
     "name": "stderr",
     "output_type": "stream",
     "text": [
      "/home/fl350/.pyenv/versions/2.7.11/envs/jupyter/lib/python2.7/site-packages/matplotlib/__init__.py:1350: UserWarning:  This call to matplotlib.use() has no effect\n",
      "because the backend has already been chosen;\n",
      "matplotlib.use() must be called *before* pylab, matplotlib.pyplot,\n",
      "or matplotlib.backends is imported for the first time.\n",
      "\n",
      "  warnings.warn(_use_error_msg)\n"
     ]
    }
   ],
   "source": [
    "import os.path\n",
    "import glob\n",
    "import json\n",
    "import pandas as pd\n",
    "import re\n",
    "\n",
    "import seaborn as sns\n",
    "from latexify import latexify, format_axes"
   ]
  },
  {
   "cell_type": "code",
   "execution_count": 3,
   "metadata": {
    "collapsed": true
   },
   "outputs": [],
   "source": [
    "EXPERIMENT_NAME = '8-1-bachbot-questions'\n",
    "RESPONSES_PATH = os.path.join('/home/fl350/data/responses', EXPERIMENT_NAME)\n",
    "\n",
    "MASK_ORDER = ['S', 'A', 'T', 'B', 'AT', 'ATB', 'SATB']\n",
    "AGE_GROUP_ORDER = ['under18', '18to25', '26to45', '46to60', 'over60']\n",
    "MUSIC_EXPERIENCE_ORDER = ['novice', 'intermediate', 'advanced', 'expert']\n",
    "ORDERS = {\n",
    "    'maskedParts': MASK_ORDER,\n",
    "    'ageGroup': AGE_GROUP_ORDER,\n",
    "    'musicExperience': MUSIC_EXPERIENCE_ORDER\n",
    "}"
   ]
  },
  {
   "cell_type": "code",
   "execution_count": 4,
   "metadata": {
    "collapsed": true
   },
   "outputs": [],
   "source": [
    "def exact_CI(x, N, alpha=0.95):\n",
    "    \"\"\"\n",
    "    Calculate the exact confidence interval of a proportion \n",
    "    where there is a wide range in the sample size or the proportion.\n",
    "\n",
    "    This method avoids the assumption that data are normally distributed. The sample size\n",
    "    and proportion are desctibed by a beta distribution.\n",
    "\n",
    "    Parameters\n",
    "    ----------\n",
    "\n",
    "    x: the number of cases from which the proportion is calulated as a positive integer.\n",
    "\n",
    "    N: the sample size as a positive integer.\n",
    "\n",
    "    alpha : set at 0.95 for 95% confidence intervals.\n",
    "\n",
    "    Returns\n",
    "    -------\n",
    "    The proportion with the lower and upper confidence intervals as a dict.\n",
    "\n",
    "    \"\"\"\n",
    "    from scipy.stats import beta\n",
    "    x = float(x)\n",
    "    N = float(N)\n",
    "    p = round((x/N),2)\n",
    "\n",
    "    intervals = [round(i,4) for i in beta.interval(alpha,x,N-x+1)]\n",
    "    intervals.insert(0,p)\n",
    "\n",
    "    result = {\n",
    "        'Proportion': p,\n",
    "        'Lower CI': np.minimum(np.maximum(0.0, intervals[1]), 1.0) - p,\n",
    "        'Upper CI': np.maximum(0.0, np.minimum(1.0, intervals[2])) - p\n",
    "    }\n",
    "\n",
    "    return result"
   ]
  },
  {
   "cell_type": "code",
   "execution_count": 5,
   "metadata": {
    "collapsed": true
   },
   "outputs": [],
   "source": [
    "def get_mask(response):\n",
    "    names = map(lambda c: c['name'], response['choices'])\n",
    "    name = (n for n in names if re.match(\".*-mask-.*|^out-.*\", n)).next()\n",
    "    if name[:3] == 'out':\n",
    "        return 'SATB'\n",
    "    else:\n",
    "        parts = name[:-4].split('-')\n",
    "        return ''.join(map(lambda x: x[0], parts[parts.index('mask')+1:parts.index('fermatas')]))"
   ]
  },
  {
   "cell_type": "code",
   "execution_count": 6,
   "metadata": {
    "collapsed": true
   },
   "outputs": [],
   "source": [
    "def get_name(response):\n",
    "    names = map(lambda c: c['name'], response['choices'])\n",
    "    orig_name = '-'.join((n for n in names if re.match(\".*-nomask-.*\", n)).next().split('-')[:2])\n",
    "    gen_name = '-'.join((n for n in names if re.match(\".*-mask-.*|^out-.*\", n)).next().split('-')[:2]) \\\n",
    "        + '-' + get_mask(response)\n",
    "    return orig_name + ' vs ' + gen_name"
   ]
  },
  {
   "cell_type": "code",
   "execution_count": 7,
   "metadata": {
    "collapsed": true
   },
   "outputs": [],
   "source": [
    "def is_correct(response):\n",
    "    return response['choiceIndex'] == response['correctIndex']"
   ]
  },
  {
   "cell_type": "code",
   "execution_count": 8,
   "metadata": {
    "collapsed": true
   },
   "outputs": [],
   "source": [
    "def process_responses(responses):\n",
    "    for response in responses:\n",
    "        yield get_name(response), get_mask(response), is_correct(response)"
   ]
  },
  {
   "cell_type": "code",
   "execution_count": 9,
   "metadata": {
    "collapsed": false,
    "scrolled": true
   },
   "outputs": [],
   "source": [
    "def first_attempt_by_ip(blobs):\n",
    "    return pd.DataFrame(blobs.groupby('ip').aggregate(lambda gp: gp.sort_values('datetime').iloc[0]))"
   ]
  },
  {
   "cell_type": "code",
   "execution_count": 10,
   "metadata": {
    "collapsed": false
   },
   "outputs": [],
   "source": [
    "def make_error_bars(props):\n",
    "    return np.abs(np.concatenate(\n",
    "        (props['Lower CI'].values[np.newaxis,:],\n",
    "        props['Upper CI'].values[np.newaxis,:]),\n",
    "        axis=0)[np.newaxis,:,:])\n",
    "    \n",
    "def make_error_bars2(props):\n",
    "    return np.abs(np.swapaxes(\n",
    "        np.swapaxes(\n",
    "            np.concatenate(\n",
    "                (props['Lower CI'].values[:,:,np.newaxis],\n",
    "                props['Upper CI'].values[:,:,np.newaxis]),\n",
    "                axis=2),\n",
    "            0,1),\n",
    "    1,2))"
   ]
  },
  {
   "cell_type": "code",
   "execution_count": 11,
   "metadata": {
    "collapsed": false
   },
   "outputs": [
    {
     "data": {
      "text/plain": [
       "754"
      ]
     },
     "execution_count": 11,
     "metadata": {},
     "output_type": "execute_result"
    }
   ],
   "source": [
    "blobs = [json.load(open(fp, 'r')) for fp in glob.glob(RESPONSES_PATH + '/*')]\n",
    "len(blobs)"
   ]
  },
  {
   "cell_type": "code",
   "execution_count": 12,
   "metadata": {
    "collapsed": false
   },
   "outputs": [
    {
     "data": {
      "text/plain": [
       "716"
      ]
     },
     "execution_count": 12,
     "metadata": {},
     "output_type": "execute_result"
    }
   ],
   "source": [
    "first_attempt_by_ip(pd.DataFrame(blobs)).shape[0]"
   ]
  },
  {
   "cell_type": "code",
   "execution_count": 13,
   "metadata": {
    "collapsed": false
   },
   "outputs": [
    {
     "data": {
      "text/html": [
       "<div>\n",
       "<table border=\"1\" class=\"dataframe\">\n",
       "  <thead>\n",
       "    <tr style=\"text-align: right;\">\n",
       "      <th></th>\n",
       "      <th>ip</th>\n",
       "      <th>name</th>\n",
       "      <th>maskedParts</th>\n",
       "      <th>correct</th>\n",
       "      <th>musicExperience</th>\n",
       "      <th>ageGroup</th>\n",
       "    </tr>\n",
       "  </thead>\n",
       "  <tbody>\n",
       "    <tr>\n",
       "      <th>0</th>\n",
       "      <td>10.1.34.168, 82.132.231.197, 185.89.217.234:58358</td>\n",
       "      <td>BWV-344 vs out-59.mp3-SATB</td>\n",
       "      <td>SATB</td>\n",
       "      <td>False</td>\n",
       "      <td>novice</td>\n",
       "      <td>46to60</td>\n",
       "    </tr>\n",
       "    <tr>\n",
       "      <th>1</th>\n",
       "      <td>10.1.34.168, 82.132.231.197, 185.89.217.234:58358</td>\n",
       "      <td>BWV-268 vs BWV-268-A</td>\n",
       "      <td>A</td>\n",
       "      <td>True</td>\n",
       "      <td>novice</td>\n",
       "      <td>46to60</td>\n",
       "    </tr>\n",
       "    <tr>\n",
       "      <th>2</th>\n",
       "      <td>10.1.34.168, 82.132.231.197, 185.89.217.234:58358</td>\n",
       "      <td>BWV-312 vs out-10.mp3-SATB</td>\n",
       "      <td>SATB</td>\n",
       "      <td>True</td>\n",
       "      <td>novice</td>\n",
       "      <td>46to60</td>\n",
       "    </tr>\n",
       "    <tr>\n",
       "      <th>3</th>\n",
       "      <td>10.1.34.168, 82.132.231.197, 185.89.217.234:58358</td>\n",
       "      <td>BWV-381 vs BWV-381-AT</td>\n",
       "      <td>AT</td>\n",
       "      <td>False</td>\n",
       "      <td>novice</td>\n",
       "      <td>46to60</td>\n",
       "    </tr>\n",
       "    <tr>\n",
       "      <th>4</th>\n",
       "      <td>10.1.34.168, 82.132.231.197, 185.89.217.234:58358</td>\n",
       "      <td>BWV-372 vs BWV-372-ATB</td>\n",
       "      <td>ATB</td>\n",
       "      <td>False</td>\n",
       "      <td>novice</td>\n",
       "      <td>46to60</td>\n",
       "    </tr>\n",
       "  </tbody>\n",
       "</table>\n",
       "</div>"
      ],
      "text/plain": [
       "                                                  ip  \\\n",
       "0  10.1.34.168, 82.132.231.197, 185.89.217.234:58358   \n",
       "1  10.1.34.168, 82.132.231.197, 185.89.217.234:58358   \n",
       "2  10.1.34.168, 82.132.231.197, 185.89.217.234:58358   \n",
       "3  10.1.34.168, 82.132.231.197, 185.89.217.234:58358   \n",
       "4  10.1.34.168, 82.132.231.197, 185.89.217.234:58358   \n",
       "\n",
       "                         name maskedParts correct musicExperience ageGroup  \n",
       "0  BWV-344 vs out-59.mp3-SATB        SATB   False          novice   46to60  \n",
       "1        BWV-268 vs BWV-268-A           A    True          novice   46to60  \n",
       "2  BWV-312 vs out-10.mp3-SATB        SATB    True          novice   46to60  \n",
       "3       BWV-381 vs BWV-381-AT          AT   False          novice   46to60  \n",
       "4      BWV-372 vs BWV-372-ATB         ATB   False          novice   46to60  "
      ]
     },
     "execution_count": 13,
     "metadata": {},
     "output_type": "execute_result"
    }
   ],
   "source": [
    "df = pd.DataFrame(\n",
    "    [(ip, name, maskedParts, correct) + tuple(row.userInfo.values())\n",
    "     for ip, row in first_attempt_by_ip(pd.DataFrame(blobs)).iterrows()\n",
    "     for name, maskedParts, correct in process_responses(row.responses)],\n",
    "    columns=('ip','name','maskedParts','correct','musicExperience','ageGroup'))\n",
    "for col, order in ORDERS.items():\n",
    "    df[col] = df[col].astype('category').cat.reorder_categories(order, ordered=True)\n",
    "df.head()"
   ]
  },
  {
   "cell_type": "code",
   "execution_count": 14,
   "metadata": {
    "collapsed": false
   },
   "outputs": [
    {
     "data": {
      "text/plain": [
       "0.24022346368715083"
      ]
     },
     "execution_count": 14,
     "metadata": {},
     "output_type": "execute_result"
    }
   ],
   "source": [
    "len(filter(lambda x: x in ['advanced','expert'], df.musicExperience)) * 1. / df.shape[0]"
   ]
  },
  {
   "cell_type": "code",
   "execution_count": 15,
   "metadata": {
    "collapsed": false
   },
   "outputs": [
    {
     "data": {
      "image/png": "[encoded data removed]",
      "text/plain": [
       "<matplotlib.figure.Figure at 0x7f7e59f21410>"
      ]
     },
     "metadata": {},
     "output_type": "display_data"
    }
   ],
   "source": [
    "latexify(columns=1)\n",
    "\n",
    "ax = df\\\n",
    ".groupby([\"ageGroup\", \"musicExperience\"])\\\n",
    ".apply(len)\\\n",
    ".unstack(1)\\\n",
    ".loc[ORDERS['ageGroup']]\\\n",
    "[ORDERS['musicExperience']]\\\n",
    ".fillna(0)\\\n",
    ".plot.bar(table=True, stacked=True)\n",
    "ax.set_title('Participant demographics')\n",
    "ax.set_ylabel('Count')\n",
    "ax.get_xaxis().set_visible(False)   # Hide Ticks\n",
    "\n",
    "#ax.legend(title=\"Music experience\", loc='best')\n",
    "# Shrink current axis by 20%, add legend to left\n",
    "box = ax.get_position()\n",
    "ax.set_position([box.x0, box.y0, box.width * 0.8, box.height])\n",
    "ax.legend(title=\"Music experience\", loc='center left', bbox_to_anchor=(1, 0.5))\n",
    "\n",
    "plt.tight_layout()\n",
    "plt.savefig('responses-ageGroup-musicExperience.pgf', bbox_inches='tight', dpi=300)\n",
    "plt.show()"
   ]
  },
  {
   "cell_type": "code",
   "execution_count": 16,
   "metadata": {
    "collapsed": false
   },
   "outputs": [
    {
     "data": {
      "image/png": "[encoded data removed]",
      "text/plain": [
       "<matplotlib.figure.Figure at 0x7f7e59ea4050>"
      ]
     },
     "metadata": {},
     "output_type": "display_data"
    }
   ],
   "source": [
    "latexify(columns=1)\n",
    "\n",
    "props = df\\\n",
    ".groupby([\"maskedParts\"])\\\n",
    ".apply(lambda gp: pd.Series(exact_CI(gp['correct'].sum(), gp['correct'].count(), alpha=0.95)))\\\n",
    "\n",
    "ax = props.plot.bar(\n",
    "    y='Proportion',\n",
    "    table=True,\n",
    "    yerr=make_error_bars(props))\n",
    "ax.axhline(y=0.5, linewidth=1, color='k', ls='--')\n",
    "ax.set_title('Performance by question type')\n",
    "ax.set_ylabel('Proportion correct')\n",
    "ax.get_xaxis().set_visible(False)   # Hide Ticks\n",
    "ax.legend().remove()\n",
    "\n",
    "plt.tight_layout()\n",
    "plt.savefig('responses-mask.pgf', bbox_inches='tight', dpi=300)\n",
    "plt.show()"
   ]
  },
  {
   "cell_type": "code",
   "execution_count": 17,
   "metadata": {
    "collapsed": false
   },
   "outputs": [
    {
     "data": {
      "image/png": "[encoded data removed]",
      "text/plain": [
       "<matplotlib.figure.Figure at 0x7f7e8d90f890>"
      ]
     },
     "metadata": {},
     "output_type": "display_data"
    }
   ],
   "source": [
    "latexify(fig_width=4)\n",
    "\n",
    "props = df\\\n",
    ".groupby([\"maskedParts\", \"musicExperience\"])\\\n",
    ".apply(lambda gp: pd.Series(exact_CI(gp['correct'].sum(), gp['correct'].count(), alpha=0.95)))\\\n",
    ".unstack(1)\\\n",
    ".loc[ORDERS['maskedParts']]\n",
    "\n",
    "ax = props.plot.bar(\n",
    "    y='Proportion',\n",
    "    table=True,\n",
    "    yerr=make_error_bars2(props))\n",
    "ax.axhline(y=0.5, linewidth=1, color='k', ls='--')\n",
    "ax.set_title('Performance by question type and music experience')\n",
    "ax.set_ylabel('Proportion correct')\n",
    "ax.set_ylim([0, 1])\n",
    "ax.get_xaxis().set_visible(False)   # Hide Ticks\n",
    "\n",
    "#ax.legend(title=\"Music experience\", loc='best')\n",
    "# Shrink current axis by 20%, add legend to left\n",
    "box = ax.get_position()\n",
    "ax.set_position([box.x0, box.y0, box.width * 0.8, box.height])\n",
    "ax.legend(title=\"Music experience\", loc='center left', bbox_to_anchor=(1, 0.5))\n",
    "\n",
    "plt.tight_layout()\n",
    "plt.savefig('responses-mask-musicExperience.pgf', bbox_inches='tight', dpi=300)\n",
    "plt.show()"
   ]
  },
  {
   "cell_type": "code",
   "execution_count": 18,
   "metadata": {
    "collapsed": false
   },
   "outputs": [
    {
     "data": {
      "image/png": "[encoded data removed]",
      "text/plain": [
       "<matplotlib.figure.Figure at 0x7f7e8be105d0>"
      ]
     },
     "metadata": {},
     "output_type": "display_data"
    }
   ],
   "source": [
    "latexify(fig_width=4)\n",
    "\n",
    "props = df\\\n",
    ".groupby([\"maskedParts\", \"ageGroup\"])\\\n",
    ".apply(lambda gp: pd.Series(exact_CI(gp['correct'].sum(), gp['correct'].count(), alpha=0.95)))\\\n",
    ".unstack(1)\\\n",
    ".loc[ORDERS['maskedParts']]\n",
    "\n",
    "ax = props.plot.bar(\n",
    "    y='Proportion',\n",
    "    table=True,\n",
    "    yerr=make_error_bars2(props))\n",
    "ax.axhline(y=0.5, linewidth=1, color='k', ls='--')\n",
    "ax.set_title('Performance by question type and age group')\n",
    "ax.set_ylabel('Proportion correct')\n",
    "ax.set_ylim([0, 1])\n",
    "ax.get_xaxis().set_visible(False)   # Hide Ticks\n",
    "\n",
    "#ax.legend(title=\"Age group\", loc='best')\n",
    "# Shrink current axis by 20%, add legend to left\n",
    "box = ax.get_position()\n",
    "ax.set_position([box.x0, box.y0, box.width * 0.8, box.height])\n",
    "ax.legend(title=\"Age group\", loc='center left', bbox_to_anchor=(1, 0.5))\n",
    "\n",
    "plt.tight_layout()\n",
    "plt.savefig('responses-mask-agegroup.pgf', bbox_inches='tight', dpi=300)\n",
    "plt.show()"
   ]
  },
  {
   "cell_type": "code",
   "execution_count": 19,
   "metadata": {
    "collapsed": false
   },
   "outputs": [
    {
     "data": {
      "image/png": "[encoded data removed]",
      "text/plain": [
       "<matplotlib.figure.Figure at 0x7f7e8bc2c050>"
      ]
     },
     "metadata": {},
     "output_type": "display_data"
    }
   ],
   "source": [
    "latexify(columns=2)\n",
    "\n",
    "props = df\\\n",
    ".groupby(\"name\")\\\n",
    ".apply(lambda gp: pd.Series(exact_CI(gp['correct'].sum(), gp['correct'].count(), alpha=0.95)))\n",
    "\n",
    "ax = props.plot.bar(y='Proportion', yerr=make_error_bars(props))\n",
    "ax.axhline(y=0.5, linewidth=1, color='k', ls='--')\n",
    "ax.set_title('Performance by individual questions')\n",
    "ax.set_ylabel('Proportion correct')\n",
    "ax.set_ylim([0, 1])\n",
    "ax.legend().remove()\n",
    "\n",
    "plt.tight_layout()\n",
    "plt.savefig('responses-name.pgf', bbox_inches='tight', dpi=300)\n",
    "plt.show()"
   ]
  },
  {
   "cell_type": "code",
   "execution_count": 20,
   "metadata": {
    "collapsed": false
   },
   "outputs": [
    {
     "data": {
      "text/plain": [
       "0.41666666666666669"
      ]
     },
     "execution_count": 20,
     "metadata": {},
     "output_type": "execute_result"
    }
   ],
   "source": [
    "# Proportion of questions where change in proportion correct is  statistically insignificant from baseline\n",
    "df = props.loc[filter(lambda x: re.match(r\".*SATB\", x), props.index)]\n",
    "(df.Proportion + df['Lower CI'] <= 0.50).sum() / float(df.shape[0])"
   ]
  },
  {
   "cell_type": "code",
   "execution_count": 21,
   "metadata": {
    "collapsed": false
   },
   "outputs": [
    {
     "ename": "IOError",
     "evalue": "File /home/fl350/data/Analytics All Web Site Data Location 20160707-20160806.csv does not exist",
     "output_type": "error",
     "traceback": [
      "\u001b[0;31m---------------------------------------------------------------------------\u001b[0m",
      "\u001b[0;31mIOError\u001b[0m                                   Traceback (most recent call last)",
      "\u001b[0;32m<ipython-input-21-1afa08476bfc>\u001b[0m in \u001b[0;36m<module>\u001b[0;34m()\u001b[0m\n\u001b[1;32m      1\u001b[0m df = pd.read_csv(\n\u001b[1;32m      2\u001b[0m     \u001b[0;34m'/home/fl350/data/Analytics All Web Site Data Location 20160707-20160806.csv'\u001b[0m\u001b[0;34m,\u001b[0m\u001b[0;34m\u001b[0m\u001b[0m\n\u001b[0;32m----> 3\u001b[0;31m     skiprows=6)\\\n\u001b[0m\u001b[1;32m      4\u001b[0m \u001b[0;34m.\u001b[0m\u001b[0mfillna\u001b[0m\u001b[0;34m(\u001b[0m\u001b[0;34m'Other'\u001b[0m\u001b[0;34m)\u001b[0m\u001b[0;31m\\\u001b[0m\u001b[0;34m\u001b[0m\u001b[0m\n\u001b[1;32m      5\u001b[0m \u001b[0;34m.\u001b[0m\u001b[0mset_index\u001b[0m\u001b[0;34m(\u001b[0m\u001b[0;34m[\u001b[0m\u001b[0;34m'Country'\u001b[0m\u001b[0;34m]\u001b[0m\u001b[0;34m)\u001b[0m\u001b[0;34m\u001b[0m\u001b[0m\n",
      "\u001b[0;32m/home/fl350/.pyenv/versions/2.7.11/envs/jupyter/lib/python2.7/site-packages/pandas/io/parsers.pyc\u001b[0m in \u001b[0;36mparser_f\u001b[0;34m(filepath_or_buffer, sep, delimiter, header, names, index_col, usecols, squeeze, prefix, mangle_dupe_cols, dtype, engine, converters, true_values, false_values, skipinitialspace, skiprows, skipfooter, nrows, na_values, keep_default_na, na_filter, verbose, skip_blank_lines, parse_dates, infer_datetime_format, keep_date_col, date_parser, dayfirst, iterator, chunksize, compression, thousands, decimal, lineterminator, quotechar, quoting, escapechar, comment, encoding, dialect, tupleize_cols, error_bad_lines, warn_bad_lines, skip_footer, doublequote, delim_whitespace, as_recarray, compact_ints, use_unsigned, low_memory, buffer_lines, memory_map, float_precision)\u001b[0m\n\u001b[1;32m    560\u001b[0m                     skip_blank_lines=skip_blank_lines)\n\u001b[1;32m    561\u001b[0m \u001b[0;34m\u001b[0m\u001b[0m\n\u001b[0;32m--> 562\u001b[0;31m         \u001b[0;32mreturn\u001b[0m \u001b[0m_read\u001b[0m\u001b[0;34m(\u001b[0m\u001b[0mfilepath_or_buffer\u001b[0m\u001b[0;34m,\u001b[0m \u001b[0mkwds\u001b[0m\u001b[0;34m)\u001b[0m\u001b[0;34m\u001b[0m\u001b[0m\n\u001b[0m\u001b[1;32m    563\u001b[0m \u001b[0;34m\u001b[0m\u001b[0m\n\u001b[1;32m    564\u001b[0m     \u001b[0mparser_f\u001b[0m\u001b[0;34m.\u001b[0m\u001b[0m__name__\u001b[0m \u001b[0;34m=\u001b[0m \u001b[0mname\u001b[0m\u001b[0;34m\u001b[0m\u001b[0m\n",
      "\u001b[0;32m/home/fl350/.pyenv/versions/2.7.11/envs/jupyter/lib/python2.7/site-packages/pandas/io/parsers.pyc\u001b[0m in \u001b[0;36m_read\u001b[0;34m(filepath_or_buffer, kwds)\u001b[0m\n\u001b[1;32m    313\u001b[0m \u001b[0;34m\u001b[0m\u001b[0m\n\u001b[1;32m    314\u001b[0m     \u001b[0;31m# Create the parser.\u001b[0m\u001b[0;34m\u001b[0m\u001b[0;34m\u001b[0m\u001b[0m\n\u001b[0;32m--> 315\u001b[0;31m     \u001b[0mparser\u001b[0m \u001b[0;34m=\u001b[0m \u001b[0mTextFileReader\u001b[0m\u001b[0;34m(\u001b[0m\u001b[0mfilepath_or_buffer\u001b[0m\u001b[0;34m,\u001b[0m \u001b[0;34m**\u001b[0m\u001b[0mkwds\u001b[0m\u001b[0;34m)\u001b[0m\u001b[0;34m\u001b[0m\u001b[0m\n\u001b[0m\u001b[1;32m    316\u001b[0m \u001b[0;34m\u001b[0m\u001b[0m\n\u001b[1;32m    317\u001b[0m     \u001b[0;32mif\u001b[0m \u001b[0;34m(\u001b[0m\u001b[0mnrows\u001b[0m \u001b[0;32mis\u001b[0m \u001b[0;32mnot\u001b[0m \u001b[0mNone\u001b[0m\u001b[0;34m)\u001b[0m \u001b[0;32mand\u001b[0m \u001b[0;34m(\u001b[0m\u001b[0mchunksize\u001b[0m \u001b[0;32mis\u001b[0m \u001b[0;32mnot\u001b[0m \u001b[0mNone\u001b[0m\u001b[0;34m)\u001b[0m\u001b[0;34m:\u001b[0m\u001b[0;34m\u001b[0m\u001b[0m\n",
      "\u001b[0;32m/home/fl350/.pyenv/versions/2.7.11/envs/jupyter/lib/python2.7/site-packages/pandas/io/parsers.pyc\u001b[0m in \u001b[0;36m__init__\u001b[0;34m(self, f, engine, **kwds)\u001b[0m\n\u001b[1;32m    643\u001b[0m             \u001b[0mself\u001b[0m\u001b[0;34m.\u001b[0m\u001b[0moptions\u001b[0m\u001b[0;34m[\u001b[0m\u001b[0;34m'has_index_names'\u001b[0m\u001b[0;34m]\u001b[0m \u001b[0;34m=\u001b[0m \u001b[0mkwds\u001b[0m\u001b[0;34m[\u001b[0m\u001b[0;34m'has_index_names'\u001b[0m\u001b[0;34m]\u001b[0m\u001b[0;34m\u001b[0m\u001b[0m\n\u001b[1;32m    644\u001b[0m \u001b[0;34m\u001b[0m\u001b[0m\n\u001b[0;32m--> 645\u001b[0;31m         \u001b[0mself\u001b[0m\u001b[0;34m.\u001b[0m\u001b[0m_make_engine\u001b[0m\u001b[0;34m(\u001b[0m\u001b[0mself\u001b[0m\u001b[0;34m.\u001b[0m\u001b[0mengine\u001b[0m\u001b[0;34m)\u001b[0m\u001b[0;34m\u001b[0m\u001b[0m\n\u001b[0m\u001b[1;32m    646\u001b[0m \u001b[0;34m\u001b[0m\u001b[0m\n\u001b[1;32m    647\u001b[0m     \u001b[0;32mdef\u001b[0m \u001b[0mclose\u001b[0m\u001b[0;34m(\u001b[0m\u001b[0mself\u001b[0m\u001b[0;34m)\u001b[0m\u001b[0;34m:\u001b[0m\u001b[0;34m\u001b[0m\u001b[0m\n",
      "\u001b[0;32m/home/fl350/.pyenv/versions/2.7.11/envs/jupyter/lib/python2.7/site-packages/pandas/io/parsers.pyc\u001b[0m in \u001b[0;36m_make_engine\u001b[0;34m(self, engine)\u001b[0m\n\u001b[1;32m    797\u001b[0m     \u001b[0;32mdef\u001b[0m \u001b[0m_make_engine\u001b[0m\u001b[0;34m(\u001b[0m\u001b[0mself\u001b[0m\u001b[0;34m,\u001b[0m \u001b[0mengine\u001b[0m\u001b[0;34m=\u001b[0m\u001b[0;34m'c'\u001b[0m\u001b[0;34m)\u001b[0m\u001b[0;34m:\u001b[0m\u001b[0;34m\u001b[0m\u001b[0m\n\u001b[1;32m    798\u001b[0m         \u001b[0;32mif\u001b[0m \u001b[0mengine\u001b[0m \u001b[0;34m==\u001b[0m \u001b[0;34m'c'\u001b[0m\u001b[0;34m:\u001b[0m\u001b[0;34m\u001b[0m\u001b[0m\n\u001b[0;32m--> 799\u001b[0;31m             \u001b[0mself\u001b[0m\u001b[0;34m.\u001b[0m\u001b[0m_engine\u001b[0m \u001b[0;34m=\u001b[0m \u001b[0mCParserWrapper\u001b[0m\u001b[0;34m(\u001b[0m\u001b[0mself\u001b[0m\u001b[0;34m.\u001b[0m\u001b[0mf\u001b[0m\u001b[0;34m,\u001b[0m \u001b[0;34m**\u001b[0m\u001b[0mself\u001b[0m\u001b[0;34m.\u001b[0m\u001b[0moptions\u001b[0m\u001b[0;34m)\u001b[0m\u001b[0;34m\u001b[0m\u001b[0m\n\u001b[0m\u001b[1;32m    800\u001b[0m         \u001b[0;32melse\u001b[0m\u001b[0;34m:\u001b[0m\u001b[0;34m\u001b[0m\u001b[0m\n\u001b[1;32m    801\u001b[0m             \u001b[0;32mif\u001b[0m \u001b[0mengine\u001b[0m \u001b[0;34m==\u001b[0m \u001b[0;34m'python'\u001b[0m\u001b[0;34m:\u001b[0m\u001b[0;34m\u001b[0m\u001b[0m\n",
      "\u001b[0;32m/home/fl350/.pyenv/versions/2.7.11/envs/jupyter/lib/python2.7/site-packages/pandas/io/parsers.pyc\u001b[0m in \u001b[0;36m__init__\u001b[0;34m(self, src, **kwds)\u001b[0m\n\u001b[1;32m   1211\u001b[0m         \u001b[0mkwds\u001b[0m\u001b[0;34m[\u001b[0m\u001b[0;34m'allow_leading_cols'\u001b[0m\u001b[0;34m]\u001b[0m \u001b[0;34m=\u001b[0m \u001b[0mself\u001b[0m\u001b[0;34m.\u001b[0m\u001b[0mindex_col\u001b[0m \u001b[0;32mis\u001b[0m \u001b[0;32mnot\u001b[0m \u001b[0mFalse\u001b[0m\u001b[0;34m\u001b[0m\u001b[0m\n\u001b[1;32m   1212\u001b[0m \u001b[0;34m\u001b[0m\u001b[0m\n\u001b[0;32m-> 1213\u001b[0;31m         \u001b[0mself\u001b[0m\u001b[0;34m.\u001b[0m\u001b[0m_reader\u001b[0m \u001b[0;34m=\u001b[0m \u001b[0m_parser\u001b[0m\u001b[0;34m.\u001b[0m\u001b[0mTextReader\u001b[0m\u001b[0;34m(\u001b[0m\u001b[0msrc\u001b[0m\u001b[0;34m,\u001b[0m \u001b[0;34m**\u001b[0m\u001b[0mkwds\u001b[0m\u001b[0;34m)\u001b[0m\u001b[0;34m\u001b[0m\u001b[0m\n\u001b[0m\u001b[1;32m   1214\u001b[0m \u001b[0;34m\u001b[0m\u001b[0m\n\u001b[1;32m   1215\u001b[0m         \u001b[0;31m# XXX\u001b[0m\u001b[0;34m\u001b[0m\u001b[0;34m\u001b[0m\u001b[0m\n",
      "\u001b[0;32mpandas/parser.pyx\u001b[0m in \u001b[0;36mpandas.parser.TextReader.__cinit__ (pandas/parser.c:3427)\u001b[0;34m()\u001b[0m\n",
      "\u001b[0;32mpandas/parser.pyx\u001b[0m in \u001b[0;36mpandas.parser.TextReader._setup_parser_source (pandas/parser.c:6861)\u001b[0;34m()\u001b[0m\n",
      "\u001b[0;31mIOError\u001b[0m: File /home/fl350/data/Analytics All Web Site Data Location 20160707-20160806.csv does not exist"
     ]
    }
   ],
   "source": [
    "df = pd.read_csv(\n",
    "    '/home/fl350/data/Analytics All Web Site Data Location 20160707-20160806.csv',\n",
    "    skiprows=6)\\\n",
    ".fillna('Other')\\\n",
    ".set_index(['Country'])\n",
    "df = df.assign(Percentage = lambda x: 100 * np.round(x.Sessions / df.Sessions.sum(), 2))\\\n",
    ".rename(columns={'Percentage': '% All Sessions'})\n",
    "\n",
    "with open('user-countries.tex', 'wb') as f:\n",
    "    f.write(df[['Sessions', '% All Sessions']].to_latex(index=True,longtable=False))\n",
    "    \n",
    "df"
   ]
  },
  {
   "cell_type": "code",
   "execution_count": null,
   "metadata": {
    "collapsed": false
   },
   "outputs": [],
   "source": [
    "latexify(fig_width=2.55, fig_height=2.55)\n",
    "\n",
    "ax = df.plot.pie(y='Sessions', labels=None)\n",
    "ax.set_ylabel('')\n",
    "\n",
    "# Shrink current axis by 20%\n",
    "box = ax.get_position()\n",
    "ax.set_position([box.x0, box.y0, box.width * 0.8, box.height])\n",
    "\n",
    "# Add legend to left\n",
    "ax.legend(title=\"Country\", labels=df.index,\n",
    "          loc='center left', bbox_to_anchor=(1, 0.5))\n",
    "\n",
    "plt.tight_layout()\n",
    "plt.savefig('user-demographics-pie.pgf', bbox_inches='tight', dpi=300)\n",
    "plt.show()"
   ]
  },
  {
   "cell_type": "markdown",
   "metadata": {
    "collapsed": true
   },
   "source": [
    "## "
   ]
  }
 ],
 "metadata": {
  "kernelspec": {
   "display_name": "Python 2",
   "language": "python",
   "name": "python2"
  },
  "language_info": {
   "codemirror_mode": {
    "name": "ipython",
    "version": 2
   },
   "file_extension": ".py",
   "mimetype": "text/x-python",
   "name": "python",
   "nbconvert_exporter": "python",
   "pygments_lexer": "ipython2",
   "version": "2.7.11"
  }
 },
 "nbformat": 4,
 "nbformat_minor": 0
}
