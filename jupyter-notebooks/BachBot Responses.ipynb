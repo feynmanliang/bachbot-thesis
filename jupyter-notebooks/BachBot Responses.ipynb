{
 "cells": [
  {
   "cell_type": "code",
   "execution_count": 1,
   "metadata": {
    "collapsed": false
   },
   "outputs": [
    {
     "name": "stdout",
     "output_type": "stream",
     "text": [
      "Populating the interactive namespace from numpy and matplotlib\n"
     ]
    }
   ],
   "source": [
    "%pylab inline"
   ]
  },
  {
   "cell_type": "code",
   "execution_count": 14,
   "metadata": {
    "collapsed": false
   },
   "outputs": [],
   "source": [
    "import os.path\n",
    "import glob\n",
    "import json\n",
    "import pandas as pd\n",
    "import re\n",
    "\n",
    "import seaborn as sns\n",
    "from latexify import latexify, format_axes"
   ]
  },
  {
   "cell_type": "code",
   "execution_count": 15,
   "metadata": {
    "collapsed": true
   },
   "outputs": [],
   "source": [
    "EXPERIMENT_NAME = '8-1-bachbot-questions'\n",
    "RESPONSES_PATH = os.path.join('/home/fl350/data/responses', EXPERIMENT_NAME)\n",
    "\n",
    "MASK_ORDER = ['S', 'A', 'T', 'B', 'AT', 'ATB', 'SATB']\n",
    "AGE_GROUP_ORDER = ['under18', '18to25', '26to45', '46to60', 'over60']\n",
    "MUSIC_EXPERIENCE_ORDER = ['novice', 'intermediate', 'advanced', 'expert']\n",
    "ORDERS = {\n",
    "    'maskedParts': MASK_ORDER,\n",
    "    'ageGroup': AGE_GROUP_ORDER,\n",
    "    'musicExperience': MUSIC_EXPERIENCE_ORDER\n",
    "}"
   ]
  },
  {
   "cell_type": "code",
   "execution_count": 16,
   "metadata": {
    "collapsed": true
   },
   "outputs": [],
   "source": [
    "def exact_CI(x, N, alpha=0.95):\n",
    "    \"\"\"\n",
    "    Calculate the exact confidence interval of a proportion \n",
    "    where there is a wide range in the sample size or the proportion.\n",
    "\n",
    "    This method avoids the assumption that data are normally distributed. The sample size\n",
    "    and proportion are desctibed by a beta distribution.\n",
    "\n",
    "    Parameters\n",
    "    ----------\n",
    "\n",
    "    x: the number of cases from which the proportion is calulated as a positive integer.\n",
    "\n",
    "    N: the sample size as a positive integer.\n",
    "\n",
    "    alpha : set at 0.95 for 95% confidence intervals.\n",
    "\n",
    "    Returns\n",
    "    -------\n",
    "    The proportion with the lower and upper confidence intervals as a dict.\n",
    "\n",
    "    \"\"\"\n",
    "    from scipy.stats import beta\n",
    "    x = float(x)\n",
    "    N = float(N)\n",
    "    p = round((x/N),2)\n",
    "\n",
    "    intervals = [round(i,4) for i in beta.interval(alpha,x,N-x+1)]\n",
    "    intervals.insert(0,p)\n",
    "\n",
    "    result = {\n",
    "        'Proportion': p,\n",
    "        'Lower CI': np.minimum(np.maximum(0.0, intervals[1]), 1.0) - p,\n",
    "        'Upper CI': np.maximum(0.0, np.minimum(1.0, intervals[2])) - p\n",
    "    }\n",
    "\n",
    "    return result"
   ]
  },
  {
   "cell_type": "code",
   "execution_count": 17,
   "metadata": {
    "collapsed": true
   },
   "outputs": [],
   "source": [
    "def get_mask(response):\n",
    "    names = map(lambda c: c['name'], response['choices'])\n",
    "    name = (n for n in names if re.match(\".*-mask-.*|^out-.*\", n)).next()\n",
    "    if name[:3] == 'out':\n",
    "        return 'SATB'\n",
    "    else:\n",
    "        parts = name[:-4].split('-')\n",
    "        return ''.join(map(lambda x: x[0], parts[parts.index('mask')+1:parts.index('fermatas')]))"
   ]
  },
  {
   "cell_type": "code",
   "execution_count": 18,
   "metadata": {
    "collapsed": true
   },
   "outputs": [],
   "source": [
    "def get_name(response):\n",
    "    names = map(lambda c: c['name'], response['choices'])\n",
    "    orig_name = '-'.join((n for n in names if re.match(\".*-nomask-.*\", n)).next().split('-')[:2])\n",
    "    gen_name = '-'.join((n for n in names if re.match(\".*-mask-.*|^out-.*\", n)).next().split('-')[:2]) \\\n",
    "        + '-' + get_mask(response)\n",
    "    return orig_name + ' vs ' + gen_name"
   ]
  },
  {
   "cell_type": "code",
   "execution_count": 19,
   "metadata": {
    "collapsed": true
   },
   "outputs": [],
   "source": [
    "def is_correct(response):\n",
    "    return response['choiceIndex'] == response['correctIndex']"
   ]
  },
  {
   "cell_type": "code",
   "execution_count": 20,
   "metadata": {
    "collapsed": true
   },
   "outputs": [],
   "source": [
    "def process_responses(responses):\n",
    "    for response in responses:\n",
    "        yield get_name(response), get_mask(response), is_correct(response)"
   ]
  },
  {
   "cell_type": "code",
   "execution_count": 21,
   "metadata": {
    "collapsed": false,
    "scrolled": true
   },
   "outputs": [],
   "source": [
    "def first_attempt_by_ip(blobs):\n",
    "    return pd.DataFrame(blobs.groupby('ip').aggregate(lambda gp: gp.sort_values('datetime').iloc[0]))"
   ]
  },
  {
   "cell_type": "code",
   "execution_count": 22,
   "metadata": {
    "collapsed": false
   },
   "outputs": [],
   "source": [
    "def make_error_bars(props):\n",
    "    return np.abs(np.concatenate(\n",
    "        (props['Lower CI'].values[np.newaxis,:],\n",
    "        props['Upper CI'].values[np.newaxis,:]),\n",
    "        axis=0)[np.newaxis,:,:])\n",
    "    \n",
    "def make_error_bars2(props):\n",
    "    return np.abs(np.swapaxes(\n",
    "        np.swapaxes(\n",
    "            np.concatenate(\n",
    "                (props['Lower CI'].values[:,:,np.newaxis],\n",
    "                props['Upper CI'].values[:,:,np.newaxis]),\n",
    "                axis=2),\n",
    "            0,1),\n",
    "    1,2))"
   ]
  },
  {
   "cell_type": "code",
   "execution_count": 23,
   "metadata": {
    "collapsed": false
   },
   "outputs": [],
   "source": [
    "blobs = [json.load(open(fp, 'r')) for fp in glob.glob(RESPONSES_PATH + '/*')]"
   ]
  },
  {
   "cell_type": "code",
   "execution_count": 24,
   "metadata": {
    "collapsed": false
   },
   "outputs": [
    {
     "data": {
      "text/plain": [
       "639"
      ]
     },
     "execution_count": 24,
     "metadata": {},
     "output_type": "execute_result"
    }
   ],
   "source": [
    "first_attempt_by_ip(pd.DataFrame(blobs)).shape[0]"
   ]
  },
  {
   "cell_type": "code",
   "execution_count": 25,
   "metadata": {
    "collapsed": false
   },
   "outputs": [
    {
     "data": {
      "text/html": [
       "<div>\n",
       "<table border=\"1\" class=\"dataframe\">\n",
       "  <thead>\n",
       "    <tr style=\"text-align: right;\">\n",
       "      <th></th>\n",
       "      <th>ip</th>\n",
       "      <th>name</th>\n",
       "      <th>maskedParts</th>\n",
       "      <th>correct</th>\n",
       "      <th>musicExperience</th>\n",
       "      <th>ageGroup</th>\n",
       "    </tr>\n",
       "  </thead>\n",
       "  <tbody>\n",
       "    <tr>\n",
       "      <th>0</th>\n",
       "      <td>100.11.25.110:60070</td>\n",
       "      <td>BWV-381 vs BWV-381-AT</td>\n",
       "      <td>AT</td>\n",
       "      <td>True</td>\n",
       "      <td>novice</td>\n",
       "      <td>18to25</td>\n",
       "    </tr>\n",
       "    <tr>\n",
       "      <th>1</th>\n",
       "      <td>100.11.25.110:60070</td>\n",
       "      <td>BWV-383 vs out-33.mp3-SATB</td>\n",
       "      <td>SATB</td>\n",
       "      <td>False</td>\n",
       "      <td>novice</td>\n",
       "      <td>18to25</td>\n",
       "    </tr>\n",
       "    <tr>\n",
       "      <th>2</th>\n",
       "      <td>100.11.25.110:60070</td>\n",
       "      <td>BWV-419 vs BWV-419-S</td>\n",
       "      <td>S</td>\n",
       "      <td>True</td>\n",
       "      <td>novice</td>\n",
       "      <td>18to25</td>\n",
       "    </tr>\n",
       "    <tr>\n",
       "      <th>3</th>\n",
       "      <td>100.11.25.110:60070</td>\n",
       "      <td>BWV-270 vs BWV-270-ATB</td>\n",
       "      <td>ATB</td>\n",
       "      <td>True</td>\n",
       "      <td>novice</td>\n",
       "      <td>18to25</td>\n",
       "    </tr>\n",
       "    <tr>\n",
       "      <th>4</th>\n",
       "      <td>100.11.25.110:60070</td>\n",
       "      <td>BWV-56.5 vs out-54.mp3-SATB</td>\n",
       "      <td>SATB</td>\n",
       "      <td>True</td>\n",
       "      <td>novice</td>\n",
       "      <td>18to25</td>\n",
       "    </tr>\n",
       "  </tbody>\n",
       "</table>\n",
       "</div>"
      ],
      "text/plain": [
       "                    ip                         name maskedParts correct  \\\n",
       "0  100.11.25.110:60070        BWV-381 vs BWV-381-AT          AT    True   \n",
       "1  100.11.25.110:60070   BWV-383 vs out-33.mp3-SATB        SATB   False   \n",
       "2  100.11.25.110:60070         BWV-419 vs BWV-419-S           S    True   \n",
       "3  100.11.25.110:60070       BWV-270 vs BWV-270-ATB         ATB    True   \n",
       "4  100.11.25.110:60070  BWV-56.5 vs out-54.mp3-SATB        SATB    True   \n",
       "\n",
       "  musicExperience ageGroup  \n",
       "0          novice   18to25  \n",
       "1          novice   18to25  \n",
       "2          novice   18to25  \n",
       "3          novice   18to25  \n",
       "4          novice   18to25  "
      ]
     },
     "execution_count": 25,
     "metadata": {},
     "output_type": "execute_result"
    }
   ],
   "source": [
    "df = pd.DataFrame(\n",
    "    [(ip, name, maskedParts, correct) + tuple(row.userInfo.values())\n",
    "     for ip, row in first_attempt_by_ip(pd.DataFrame(blobs)).iterrows()\n",
    "     for name, maskedParts, correct in process_responses(row.responses)],\n",
    "    columns=('ip','name','maskedParts','correct','musicExperience','ageGroup'))\n",
    "for col, order in ORDERS.items():\n",
    "    df[col] = df[col].astype('category').cat.reorder_categories(order, ordered=True)\n",
    "df.head()"
   ]
  },
  {
   "cell_type": "code",
   "execution_count": 26,
   "metadata": {
    "collapsed": false
   },
   "outputs": [
    {
     "name": "stderr",
     "output_type": "stream",
     "text": [
      "/home/fl350/.pyenv/versions/2.7.11/envs/jupyter/lib/python2.7/site-packages/matplotlib/__init__.py:872: UserWarning: text.fontsize is deprecated and replaced with font.size; please use the latter.\n",
      "  warnings.warn(self.msg_depr % (key, alt_key))\n"
     ]
    },
    {
     "data": {
      "image/png": "[encoded data removed]",
      "text/plain": [
       "<matplotlib.figure.Figure at 0x7f138c12fd90>"
      ]
     },
     "metadata": {},
     "output_type": "display_data"
    }
   ],
   "source": [
    "latexify(columns=1)\n",
    "\n",
    "ax = df\\\n",
    ".groupby([\"ageGroup\", \"musicExperience\"])\\\n",
    ".apply(len)\\\n",
    ".unstack(1)\\\n",
    ".loc[ORDERS['ageGroup']]\\\n",
    "[ORDERS['musicExperience']]\\\n",
    ".fillna(0)\\\n",
    ".plot.bar(table=True, stacked=True)\n",
    "ax.set_title('Participant demographics')\n",
    "ax.set_ylabel('Count')\n",
    "ax.get_xaxis().set_visible(False)   # Hide Ticks\n",
    "\n",
    "#ax.legend(title=\"Music experience\", loc='best')\n",
    "# Shrink current axis by 20%, add legend to left\n",
    "box = ax.get_position()\n",
    "ax.set_position([box.x0, box.y0, box.width * 0.8, box.height])\n",
    "ax.legend(title=\"Music experience\", loc='center left', bbox_to_anchor=(1, 0.5))\n",
    "\n",
    "plt.tight_layout()\n",
    "plt.savefig('responses-ageGroup-musicExperience.pgf', bbox_inches='tight', dpi=300)\n",
    "plt.show()"
   ]
  },
  {
   "cell_type": "code",
   "execution_count": 59,
   "metadata": {
    "collapsed": false
   },
   "outputs": [
    {
     "data": {
      "image/png": "[encoded data removed]",
      "text/plain": [
       "<matplotlib.figure.Figure at 0x7f76526a7050>"
      ]
     },
     "metadata": {},
     "output_type": "display_data"
    }
   ],
   "source": [
    "latexify(columns=1)\n",
    "\n",
    "props = df\\\n",
    ".groupby([\"maskedParts\"])\\\n",
    ".apply(lambda gp: pd.Series(exact_CI(gp['correct'].sum(), gp['correct'].count(), alpha=0.95)))\\\n",
    "\n",
    "ax = props.plot.bar(\n",
    "    y='Proportion',\n",
    "    table=True,\n",
    "    yerr=make_error_bars(props))\n",
    "ax.axhline(y=0.5, linewidth=1, color='k', ls='--')\n",
    "ax.set_title('Performance by question type')\n",
    "ax.set_ylabel('Proportion correct')\n",
    "ax.get_xaxis().set_visible(False)   # Hide Ticks\n",
    "ax.legend().remove()\n",
    "\n",
    "plt.tight_layout()\n",
    "plt.savefig('responses-mask.pgf', bbox_inches='tight', dpi=300)\n",
    "plt.show()"
   ]
  },
  {
   "cell_type": "code",
   "execution_count": 76,
   "metadata": {
    "collapsed": false
   },
   "outputs": [
    {
     "data": {
      "image/png": "[encoded data removed]",
      "text/plain": [
       "<matplotlib.figure.Figure at 0x7f765bee9650>"
      ]
     },
     "metadata": {},
     "output_type": "display_data"
    }
   ],
   "source": [
    "latexify(fig_width=4)\n",
    "\n",
    "props = df\\\n",
    ".groupby([\"maskedParts\", \"musicExperience\"])\\\n",
    ".apply(lambda gp: pd.Series(exact_CI(gp['correct'].sum(), gp['correct'].count(), alpha=0.95)))\\\n",
    ".unstack(1)\\\n",
    ".loc[ORDERS['maskedParts']]\n",
    "\n",
    "ax = props.plot.bar(\n",
    "    y='Proportion',\n",
    "    table=True,\n",
    "    yerr=make_error_bars2(props))\n",
    "ax.axhline(y=0.5, linewidth=1, color='k', ls='--')\n",
    "ax.set_title('Performance by question type and music experience')\n",
    "ax.set_ylabel('Proportion correct')\n",
    "ax.set_ylim([0, 1])\n",
    "ax.get_xaxis().set_visible(False)   # Hide Ticks\n",
    "\n",
    "#ax.legend(title=\"Music experience\", loc='best')\n",
    "# Shrink current axis by 20%, add legend to left\n",
    "box = ax.get_position()\n",
    "ax.set_position([box.x0, box.y0, box.width * 0.8, box.height])\n",
    "ax.legend(title=\"Music experience\", loc='center left', bbox_to_anchor=(1, 0.5))\n",
    "\n",
    "plt.tight_layout()\n",
    "plt.savefig('responses-mask-musicExperience.pgf', bbox_inches='tight', dpi=300)\n",
    "plt.show()"
   ]
  },
  {
   "cell_type": "code",
   "execution_count": 77,
   "metadata": {
    "collapsed": false
   },
   "outputs": [
    {
     "data": {
      "image/png": "[encoded data removed]",
      "text/plain": [
       "<matplotlib.figure.Figure at 0x7f765bd76f90>"
      ]
     },
     "metadata": {},
     "output_type": "display_data"
    }
   ],
   "source": [
    "latexify(fig_width=4)\n",
    "\n",
    "props = df\\\n",
    ".groupby([\"maskedParts\", \"ageGroup\"])\\\n",
    ".apply(lambda gp: pd.Series(exact_CI(gp['correct'].sum(), gp['correct'].count(), alpha=0.95)))\\\n",
    ".unstack(1)\\\n",
    ".loc[ORDERS['maskedParts']]\n",
    "\n",
    "ax = props.plot.bar(\n",
    "    y='Proportion',\n",
    "    table=True,\n",
    "    yerr=make_error_bars2(props))\n",
    "ax.axhline(y=0.5, linewidth=1, color='k', ls='--')\n",
    "ax.set_title('Performance by question type and age group')\n",
    "ax.set_ylabel('Proportion correct')\n",
    "ax.set_ylim([0, 1])\n",
    "ax.get_xaxis().set_visible(False)   # Hide Ticks\n",
    "\n",
    "#ax.legend(title=\"Age group\", loc='best')\n",
    "# Shrink current axis by 20%, add legend to left\n",
    "box = ax.get_position()\n",
    "ax.set_position([box.x0, box.y0, box.width * 0.8, box.height])\n",
    "ax.legend(title=\"Age group\", loc='center left', bbox_to_anchor=(1, 0.5))\n",
    "\n",
    "plt.tight_layout()\n",
    "plt.savefig('responses-mask-agegroup.pgf', bbox_inches='tight', dpi=300)\n",
    "plt.show()"
   ]
  },
  {
   "cell_type": "code",
   "execution_count": 73,
   "metadata": {
    "collapsed": false
   },
   "outputs": [
    {
     "data": {
      "image/png": "[encoded data removed]",
      "text/plain": [
       "<matplotlib.figure.Figure at 0x7f765365d390>"
      ]
     },
     "metadata": {},
     "output_type": "display_data"
    }
   ],
   "source": [
    "latexify(columns=2)\n",
    "\n",
    "props = df\\\n",
    ".groupby(\"name\")\\\n",
    ".apply(lambda gp: pd.Series(exact_CI(gp['correct'].sum(), gp['correct'].count(), alpha=0.95)))\n",
    "\n",
    "ax = props.plot.bar(y='Proportion', yerr=make_error_bars(props))\n",
    "ax.axhline(y=0.5, linewidth=1, color='k', ls='--')\n",
    "ax.set_title('Performance by individual questions')\n",
    "ax.set_ylabel('Proportion correct')\n",
    "ax.set_ylim([0, 1])\n",
    "ax.legend().remove()\n",
    "\n",
    "plt.tight_layout()\n",
    "plt.savefig('responses-name.pgf', bbox_inches='tight', dpi=300)\n",
    "plt.show()"
   ]
  },
  {
   "cell_type": "code",
   "execution_count": 43,
   "metadata": {
    "collapsed": false
   },
   "outputs": [
    {
     "data": {
      "text/plain": [
       "0.5"
      ]
     },
     "execution_count": 43,
     "metadata": {},
     "output_type": "execute_result"
    }
   ],
   "source": [
    "# Proportion of questions where change in proportion correct is  statistically insignificant from baseline\n",
    "df = props.loc[filter(lambda x: re.match(r\".*SATB\", x), props.index)]\n",
    "(df.Proportion + df['Lower CI'] <= 0.50).sum() / float(df.shape[0])"
   ]
  },
  {
   "cell_type": "code",
   "execution_count": 81,
   "metadata": {
    "collapsed": false
   },
   "outputs": [
    {
     "data": {
      "text/html": [
       "<div>\n",
       "<table border=\"1\" class=\"dataframe\">\n",
       "  <thead>\n",
       "    <tr style=\"text-align: right;\">\n",
       "      <th></th>\n",
       "      <th>Sessions</th>\n",
       "      <th>% New Sessions</th>\n",
       "      <th>New Users</th>\n",
       "      <th>Bounce Rate</th>\n",
       "      <th>Pages / Session</th>\n",
       "      <th>Avg. Session Duration</th>\n",
       "      <th>Goal Conversion Rate</th>\n",
       "      <th>Goal Completions</th>\n",
       "      <th>Goal Value</th>\n",
       "      <th>% All Sessions</th>\n",
       "    </tr>\n",
       "    <tr>\n",
       "      <th>Country</th>\n",
       "      <th></th>\n",
       "      <th></th>\n",
       "      <th></th>\n",
       "      <th></th>\n",
       "      <th></th>\n",
       "      <th></th>\n",
       "      <th></th>\n",
       "      <th></th>\n",
       "      <th></th>\n",
       "      <th></th>\n",
       "    </tr>\n",
       "  </thead>\n",
       "  <tbody>\n",
       "    <tr>\n",
       "      <th>United Kingdom</th>\n",
       "      <td>243</td>\n",
       "      <td>86.42%</td>\n",
       "      <td>210</td>\n",
       "      <td>79.42%</td>\n",
       "      <td>2.05</td>\n",
       "      <td>00:02:09</td>\n",
       "      <td>0.00%</td>\n",
       "      <td>0</td>\n",
       "      <td>$0.00</td>\n",
       "      <td>16.0</td>\n",
       "    </tr>\n",
       "    <tr>\n",
       "      <th>United States</th>\n",
       "      <td>218</td>\n",
       "      <td>84.86%</td>\n",
       "      <td>185</td>\n",
       "      <td>82.57%</td>\n",
       "      <td>1.23</td>\n",
       "      <td>00:00:45</td>\n",
       "      <td>0.00%</td>\n",
       "      <td>0</td>\n",
       "      <td>$0.00</td>\n",
       "      <td>15.0</td>\n",
       "    </tr>\n",
       "    <tr>\n",
       "      <th>Japan</th>\n",
       "      <td>86</td>\n",
       "      <td>97.67%</td>\n",
       "      <td>84</td>\n",
       "      <td>79.07%</td>\n",
       "      <td>1.35</td>\n",
       "      <td>00:01:56</td>\n",
       "      <td>0.00%</td>\n",
       "      <td>0</td>\n",
       "      <td>$0.00</td>\n",
       "      <td>6.0</td>\n",
       "    </tr>\n",
       "    <tr>\n",
       "      <th>Germany</th>\n",
       "      <td>41</td>\n",
       "      <td>87.80%</td>\n",
       "      <td>36</td>\n",
       "      <td>70.73%</td>\n",
       "      <td>1.51</td>\n",
       "      <td>00:03:36</td>\n",
       "      <td>0.00%</td>\n",
       "      <td>0</td>\n",
       "      <td>$0.00</td>\n",
       "      <td>3.0</td>\n",
       "    </tr>\n",
       "    <tr>\n",
       "      <th>China</th>\n",
       "      <td>28</td>\n",
       "      <td>85.71%</td>\n",
       "      <td>24</td>\n",
       "      <td>71.43%</td>\n",
       "      <td>1.36</td>\n",
       "      <td>00:01:01</td>\n",
       "      <td>0.00%</td>\n",
       "      <td>0</td>\n",
       "      <td>$0.00</td>\n",
       "      <td>2.0</td>\n",
       "    </tr>\n",
       "    <tr>\n",
       "      <th>France</th>\n",
       "      <td>24</td>\n",
       "      <td>87.50%</td>\n",
       "      <td>21</td>\n",
       "      <td>87.50%</td>\n",
       "      <td>1.12</td>\n",
       "      <td>00:00:22</td>\n",
       "      <td>0.00%</td>\n",
       "      <td>0</td>\n",
       "      <td>$0.00</td>\n",
       "      <td>2.0</td>\n",
       "    </tr>\n",
       "    <tr>\n",
       "      <th>Czech Republic</th>\n",
       "      <td>18</td>\n",
       "      <td>94.44%</td>\n",
       "      <td>17</td>\n",
       "      <td>83.33%</td>\n",
       "      <td>1.22</td>\n",
       "      <td>00:01:03</td>\n",
       "      <td>0.00%</td>\n",
       "      <td>0</td>\n",
       "      <td>$0.00</td>\n",
       "      <td>1.0</td>\n",
       "    </tr>\n",
       "    <tr>\n",
       "      <th>Canada</th>\n",
       "      <td>16</td>\n",
       "      <td>100.00%</td>\n",
       "      <td>16</td>\n",
       "      <td>75.00%</td>\n",
       "      <td>1.25</td>\n",
       "      <td>00:01:04</td>\n",
       "      <td>0.00%</td>\n",
       "      <td>0</td>\n",
       "      <td>$0.00</td>\n",
       "      <td>1.0</td>\n",
       "    </tr>\n",
       "    <tr>\n",
       "      <th>Italy</th>\n",
       "      <td>12</td>\n",
       "      <td>66.67%</td>\n",
       "      <td>8</td>\n",
       "      <td>83.33%</td>\n",
       "      <td>1.17</td>\n",
       "      <td>00:00:38</td>\n",
       "      <td>0.00%</td>\n",
       "      <td>0</td>\n",
       "      <td>$0.00</td>\n",
       "      <td>1.0</td>\n",
       "    </tr>\n",
       "    <tr>\n",
       "      <th>Poland</th>\n",
       "      <td>11</td>\n",
       "      <td>72.73%</td>\n",
       "      <td>8</td>\n",
       "      <td>90.91%</td>\n",
       "      <td>1.27</td>\n",
       "      <td>00:03:05</td>\n",
       "      <td>0.00%</td>\n",
       "      <td>0</td>\n",
       "      <td>$0.00</td>\n",
       "      <td>1.0</td>\n",
       "    </tr>\n",
       "    <tr>\n",
       "      <th>Other</th>\n",
       "      <td>805</td>\n",
       "      <td>87.95%</td>\n",
       "      <td>708</td>\n",
       "      <td>80.25%</td>\n",
       "      <td>1.60</td>\n",
       "      <td>00:01:31</td>\n",
       "      <td>0.00%</td>\n",
       "      <td>0</td>\n",
       "      <td>$0.00</td>\n",
       "      <td>54.0</td>\n",
       "    </tr>\n",
       "  </tbody>\n",
       "</table>\n",
       "</div>"
      ],
      "text/plain": [
       "                Sessions % New Sessions  New Users Bounce Rate  \\\n",
       "Country                                                          \n",
       "United Kingdom       243         86.42%        210      79.42%   \n",
       "United States        218         84.86%        185      82.57%   \n",
       "Japan                 86         97.67%         84      79.07%   \n",
       "Germany               41         87.80%         36      70.73%   \n",
       "China                 28         85.71%         24      71.43%   \n",
       "France                24         87.50%         21      87.50%   \n",
       "Czech Republic        18         94.44%         17      83.33%   \n",
       "Canada                16        100.00%         16      75.00%   \n",
       "Italy                 12         66.67%          8      83.33%   \n",
       "Poland                11         72.73%          8      90.91%   \n",
       "Other                805         87.95%        708      80.25%   \n",
       "\n",
       "                Pages / Session Avg. Session Duration Goal Conversion Rate  \\\n",
       "Country                                                                      \n",
       "United Kingdom             2.05              00:02:09                0.00%   \n",
       "United States              1.23              00:00:45                0.00%   \n",
       "Japan                      1.35              00:01:56                0.00%   \n",
       "Germany                    1.51              00:03:36                0.00%   \n",
       "China                      1.36              00:01:01                0.00%   \n",
       "France                     1.12              00:00:22                0.00%   \n",
       "Czech Republic             1.22              00:01:03                0.00%   \n",
       "Canada                     1.25              00:01:04                0.00%   \n",
       "Italy                      1.17              00:00:38                0.00%   \n",
       "Poland                     1.27              00:03:05                0.00%   \n",
       "Other                      1.60              00:01:31                0.00%   \n",
       "\n",
       "                Goal Completions Goal Value  % All Sessions  \n",
       "Country                                                      \n",
       "United Kingdom                 0      $0.00            16.0  \n",
       "United States                  0      $0.00            15.0  \n",
       "Japan                          0      $0.00             6.0  \n",
       "Germany                        0      $0.00             3.0  \n",
       "China                          0      $0.00             2.0  \n",
       "France                         0      $0.00             2.0  \n",
       "Czech Republic                 0      $0.00             1.0  \n",
       "Canada                         0      $0.00             1.0  \n",
       "Italy                          0      $0.00             1.0  \n",
       "Poland                         0      $0.00             1.0  \n",
       "Other                          0      $0.00            54.0  "
      ]
     },
     "execution_count": 81,
     "metadata": {},
     "output_type": "execute_result"
    }
   ],
   "source": [
    "df = pd.read_csv(\n",
    "    '/home/fl350/data/Analytics All Web Site Data Location 20160707-20160806.csv',\n",
    "    skiprows=6)\\\n",
    ".fillna('Other')\\\n",
    ".set_index(['Country'])\n",
    "df = df.assign(Percentage = lambda x: 100 * np.round(x.Sessions / df.Sessions.sum(), 2))\\\n",
    ".rename(columns={'Percentage': '% All Sessions'})\n",
    "\n",
    "with open('user-countries.tex', 'wb') as f:\n",
    "    f.write(df[['Sessions', '% All Sessions']].to_latex(index=True,longtable=False))\n",
    "    \n",
    "df"
   ]
  },
  {
   "cell_type": "code",
   "execution_count": 102,
   "metadata": {
    "collapsed": false
   },
   "outputs": [
    {
     "data": {
      "image/png": "[encoded data removed]",
      "text/plain": [
       "<matplotlib.figure.Figure at 0x7f7624caea10>"
      ]
     },
     "metadata": {},
     "output_type": "display_data"
    }
   ],
   "source": [
    "latexify(fig_width=2.55, fig_height=2.55)\n",
    "\n",
    "ax = df.plot.pie(y='Sessions', labels=None)\n",
    "ax.set_ylabel('')\n",
    "\n",
    "# Shrink current axis by 20%\n",
    "box = ax.get_position()\n",
    "ax.set_position([box.x0, box.y0, box.width * 0.8, box.height])\n",
    "\n",
    "# Add legend to left\n",
    "ax.legend(title=\"Country\", labels=df.index,\n",
    "          loc='center left', bbox_to_anchor=(1, 0.5))\n",
    "\n",
    "plt.tight_layout()\n",
    "plt.savefig('user-demographics-pie.pgf', bbox_inches='tight', dpi=300)\n",
    "plt.show()"
   ]
  },
  {
   "cell_type": "code",
   "execution_count": null,
   "metadata": {
    "collapsed": true
   },
   "outputs": [],
   "source": []
  }
 ],
 "metadata": {
  "kernelspec": {
   "display_name": "Python 2",
   "language": "python",
   "name": "python2"
  },
  "language_info": {
   "codemirror_mode": {
    "name": "ipython",
    "version": 2
   },
   "file_extension": ".py",
   "mimetype": "text/x-python",
   "name": "python",
   "nbconvert_exporter": "python",
   "pygments_lexer": "ipython2",
   "version": "2.7.11"
  }
 },
 "nbformat": 4,
 "nbformat_minor": 0
}
